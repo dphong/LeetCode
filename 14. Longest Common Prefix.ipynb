{
 "cells": [
  {
   "cell_type": "markdown",
   "metadata": {},
   "source": [
    "**14. Longest Common Prefix** \n",
    "\n",
    "Write a function to find the longest common prefix string amongst an array of strings.\n",
    "\n",
    "If there is no common prefix, return an empty string `\"\"`.\n",
    "\n",
    "**Example 1:**\n",
    "\n",
    "```\n",
    "Input: [\"flower\",\"flow\",\"flight\"]\n",
    "Output: \"fl\"\n",
    "```\n",
    "\n",
    "**Example 2:**\n",
    "\n",
    "```\n",
    "Input: [\"dog\",\"racecar\",\"car\"]\n",
    "Output: \"\"\n",
    "Explanation: There is no common prefix among the input strings.\n",
    "```\n",
    "\n",
    "**Note:**\n",
    "\n",
    "All given inputs are in lowercase letters `a-z`."
   ]
  },
  {
   "cell_type": "markdown",
   "metadata": {},
   "source": [
    "#### Runtime: 40 ms, faster than 72.83%"
   ]
  },
  {
   "cell_type": "code",
   "execution_count": 9,
   "metadata": {},
   "outputs": [
    {
     "name": "stdout",
     "output_type": "stream",
     "text": [
      "fl\n",
      "\n"
     ]
    }
   ],
   "source": [
    "class Solution:\n",
    "    def longestCommonPrefix(self, strs) -> str:\n",
    "        if len(strs) == 0:\n",
    "            return ''\n",
    "        result = strs[0]\n",
    "        minLength = len(strs[0])\n",
    "        for i in range(1, len(strs)):\n",
    "            minLength = min(len(strs[i]), len(result))\n",
    "            j = 0\n",
    "            while j < minLength:\n",
    "                if strs[i][j] == result[j]:\n",
    "                    j += 1\n",
    "                else:\n",
    "                    break\n",
    "            result = result[:j]\n",
    "            if result == \"\":\n",
    "                return result\n",
    "        return result\n",
    "    \n",
    "s = Solution()\n",
    "print(s.longestCommonPrefix([\"flower\",\"flow\",\"flight\"]))\n",
    "print(s.longestCommonPrefix([\"dog\",\"racecar\",\"car\"]))"
   ]
  },
  {
   "cell_type": "markdown",
   "metadata": {},
   "source": [
    "#### Solution two: use set"
   ]
  },
  {
   "cell_type": "code",
   "execution_count": 10,
   "metadata": {},
   "outputs": [
    {
     "name": "stdout",
     "output_type": "stream",
     "text": [
      "fl\n",
      "\n"
     ]
    }
   ],
   "source": [
    "class Solution2:\n",
    "    def longestCommonPrefix(self, strs: 'List[str]') -> 'str':\n",
    "        if len(strs)==0 or '' in strs:\n",
    "            return ''\n",
    "        if len(set(strs))==1:\n",
    "            return strs[0]\n",
    "        maxlen=min([len(e) for e in strs])\n",
    "        check = 1\n",
    "        i=0\n",
    "        while (check !=0 & i<maxlen):\n",
    "            sub=[e[:i] for e in strs]\n",
    "            if len(set(sub))==1:\n",
    "                i+=1\n",
    "            else:\n",
    "                check = 0\n",
    "        return strs[0][:i-1]\n",
    "\n",
    "s = Solution2()\n",
    "print(s.longestCommonPrefix([\"flower\",\"flow\",\"flight\"]))\n",
    "print(s.longestCommonPrefix([\"dog\",\"racecar\",\"car\"]))"
   ]
  }
 ],
 "metadata": {
  "kernelspec": {
   "display_name": "Python 3",
   "language": "python",
   "name": "python3"
  },
  "language_info": {
   "codemirror_mode": {
    "name": "ipython",
    "version": 3
   },
   "file_extension": ".py",
   "mimetype": "text/x-python",
   "name": "python",
   "nbconvert_exporter": "python",
   "pygments_lexer": "ipython3",
   "version": "3.6.3"
  }
 },
 "nbformat": 4,
 "nbformat_minor": 2
}
